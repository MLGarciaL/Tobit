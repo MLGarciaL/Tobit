{
 "cells": [
  {
   "cell_type": "markdown",
   "id": "3ad222fe-eec0-4b21-a5a8-779487394e14",
   "metadata": {},
   "source": [
    "# Método de Estimación de Dos Etapas\n",
    "\n",
    "Maddala, G. S. (1983). Limited-dependent and qualitative variables in econometrics. https://doi.org/10.1017/cbo9780511810176 \n",
    "\n",
    "### Estimación de Dos Etapas del modelo Heckman\n",
    "\n",
    "\n",
    "Consideremos el modelo:\n",
    "\n",
    "$$\\begin{array}{llll}y_i = \\beta' X_i + u_i & &\\text{ si} & RHS>0 \\\\ y_i = 0 & & \\text{ de otra forma}\\end{array}\\tag{8.1}$$ \n",
    "\n",
    "Este problema de estimación de la ecuación (8.1) es que $E(u_i)\\neq 0$ debido a trucar. La idea básica detras del método estimar el valor esperado de $E(u_i)$, sustituirlo en la ecuación (8.1) y estimar por ols, en lugar de Tobit.\n",
    "\n",
    "Debido a que tenemos la variable truncada, tenemos que:\n",
    "\n",
    "$$E\\left(y_i|y_i>0\\right) = \\beta'X_i + E\\left(u_i|u_i>-\\beta'X\\right)$$\n",
    "\n",
    "Donde el valor esperado de los errores se puede representar como:\n",
    "\n",
    "$$E(u_i|u_i>-\\beta'X) = \\sigma\\frac{\\phi}{\\Phi}$$\n",
    "\n",
    "Reemplazando nos queda:\n",
    "\n",
    "$$E\\left(y_i|y_i>0\\right) = \\beta'X_i + \\sigma\\frac{\\phi}{\\Phi} \\tag{8.2}$$\n",
    "\n",
    "Por lo tanto, podemos escribir a la ecuación (8.1) como:\n",
    "\n",
    "$$y_i = \\beta'X_i + \\sigma \\frac{\\phi_i}{\\Phi_i} + v_i \\tag{8.3}$$\n",
    "\n",
    "Lo que Heckman sugirió es lo sisguiente: Debido a que la función de probabilidad del modelo probit es bien definido, definimos la variable dummy como:\n",
    "\n",
    "$$\\begin{array}{llll}I_i = 1 & &\\text{ si} & y_i>0 \\\\ I_i = 0 & & \\text{ de otra forma}\\end{array}$$ \n",
    "\n",
    "Por lo tanto, utilizando el modelo probit, obtenemos las estimaciones de $\\beta/\\sigma$. Utilizando estas obtenemos los valores de $\\phi_i$ y $\\Phi_i$. Y ahora, obtenemos estimaciones consistentes de $\\beta$ y $\\sigma$ utilizando (8.3) por OLS, utilizando $\\hat \\phi/\\hat \\Phi$ en lugar de $\\phi/ \\Phi$ como variables explicativas. \n",
    "\n",
    "Si utilizamos todas las observaciones $y_i$, y no solo las observaciones no cero como lo sugiere Heckman, tenemos:\n",
    "\n",
    "$$E(y_i) = Prob(y_i>0)\\cdot E(y_i|y_i>0) + Prob(y_i\\leq 0) \\cdot E(y_i|y_i\\leq0)$$\n",
    "\n",
    "$$E(y_i ) = \\beta'\\left(\\Phi_iX_o\\right) + \\sigma\\phi_i\\tag{8.4}$$\n",
    "\n",
    "Por lo tanto, luego de obtener las estimaciones de $\\phi_i$ y $\\Phi_i$, estimamos esta ecuación para obtener las estimaciones de $\\beta$ y $\\sigma$."
   ]
  },
  {
   "cell_type": "code",
   "execution_count": 3,
   "id": "6bd0a88d-fcec-49ec-9987-9f2f0223b178",
   "metadata": {},
   "outputs": [
    {
     "data": {
      "text/html": [
       "<div>\n",
       "<style scoped>\n",
       "    .dataframe tbody tr th:only-of-type {\n",
       "        vertical-align: middle;\n",
       "    }\n",
       "\n",
       "    .dataframe tbody tr th {\n",
       "        vertical-align: top;\n",
       "    }\n",
       "\n",
       "    .dataframe thead th {\n",
       "        text-align: right;\n",
       "    }\n",
       "</style>\n",
       "<table border=\"1\" class=\"dataframe\">\n",
       "  <thead>\n",
       "    <tr style=\"text-align: right;\">\n",
       "      <th></th>\n",
       "      <th>age</th>\n",
       "      <th>educ</th>\n",
       "      <th>married</th>\n",
       "      <th>children</th>\n",
       "      <th>wage</th>\n",
       "      <th>censored</th>\n",
       "    </tr>\n",
       "  </thead>\n",
       "  <tbody>\n",
       "    <tr>\n",
       "      <th>0</th>\n",
       "      <td>22</td>\n",
       "      <td>10</td>\n",
       "      <td>1</td>\n",
       "      <td>0</td>\n",
       "      <td>NaN</td>\n",
       "      <td>0</td>\n",
       "    </tr>\n",
       "    <tr>\n",
       "      <th>1</th>\n",
       "      <td>36</td>\n",
       "      <td>10</td>\n",
       "      <td>1</td>\n",
       "      <td>0</td>\n",
       "      <td>20.312845</td>\n",
       "      <td>1</td>\n",
       "    </tr>\n",
       "    <tr>\n",
       "      <th>2</th>\n",
       "      <td>28</td>\n",
       "      <td>10</td>\n",
       "      <td>1</td>\n",
       "      <td>0</td>\n",
       "      <td>NaN</td>\n",
       "      <td>0</td>\n",
       "    </tr>\n",
       "    <tr>\n",
       "      <th>3</th>\n",
       "      <td>37</td>\n",
       "      <td>10</td>\n",
       "      <td>1</td>\n",
       "      <td>0</td>\n",
       "      <td>NaN</td>\n",
       "      <td>0</td>\n",
       "    </tr>\n",
       "    <tr>\n",
       "      <th>4</th>\n",
       "      <td>39</td>\n",
       "      <td>10</td>\n",
       "      <td>1</td>\n",
       "      <td>1</td>\n",
       "      <td>16.142241</td>\n",
       "      <td>1</td>\n",
       "    </tr>\n",
       "  </tbody>\n",
       "</table>\n",
       "</div>"
      ],
      "text/plain": [
       "   age  educ  married  children       wage  censored\n",
       "0   22    10        1         0        NaN         0\n",
       "1   36    10        1         0  20.312845         1\n",
       "2   28    10        1         0        NaN         0\n",
       "3   37    10        1         0        NaN         0\n",
       "4   39    10        1         1  16.142241         1"
      ]
     },
     "execution_count": 3,
     "metadata": {},
     "output_type": "execute_result"
    }
   ],
   "source": [
    "import pandas as pd\n",
    "import numpy as np\n",
    "import statsmodels.formula.api as smf\n",
    "df = pd.read_stata('gsem_womenwk.dta')\n",
    "df['censored'] = np.where((df['wage'] == 0) | (df['wage'].isna()), 0, 1)\n",
    "df.head()"
   ]
  },
  {
   "cell_type": "code",
   "execution_count": 4,
   "id": "8dadb41e-a8c7-422e-8002-85be29815ee9",
   "metadata": {},
   "outputs": [
    {
     "name": "stdout",
     "output_type": "stream",
     "text": [
      "Optimization terminated successfully.\n",
      "         Current function value: 0.513531\n",
      "         Iterations 6\n",
      "                          Probit Regression Results                           \n",
      "==============================================================================\n",
      "Dep. Variable:               censored   No. Observations:                 2000\n",
      "Model:                         Probit   Df Residuals:                     1995\n",
      "Method:                           MLE   Df Model:                            4\n",
      "Date:                Tue, 15 Oct 2024   Pseudo R-squ.:                  0.1889\n",
      "Time:                        16:15:20   Log-Likelihood:                -1027.1\n",
      "converged:                       True   LL-Null:                       -1266.2\n",
      "Covariance Type:            nonrobust   LLR p-value:                3.268e-102\n",
      "==============================================================================\n",
      "                 coef    std err          z      P>|z|      [0.025      0.975]\n",
      "------------------------------------------------------------------------------\n",
      "Intercept     -2.4674      0.193    -12.813      0.000      -2.845      -2.090\n",
      "age            0.0347      0.004      8.210      0.000       0.026       0.043\n",
      "educ           0.0584      0.011      5.318      0.000       0.037       0.080\n",
      "married        0.4309      0.074      5.806      0.000       0.285       0.576\n",
      "children       0.4473      0.029     15.564      0.000       0.391       0.504\n",
      "==============================================================================\n"
     ]
    }
   ],
   "source": [
    "regprob =  smf.probit('censored ~ age + educ + married + children', data =df).fit()\n",
    "print(regprob.summary())"
   ]
  },
  {
   "cell_type": "code",
   "execution_count": 5,
   "id": "5ad60a99-8be8-493a-979d-5e570cee9421",
   "metadata": {},
   "outputs": [],
   "source": [
    "beta = regprob.params[1:]\n",
    "X = df[['age','educ','married','children']].to_numpy()\n",
    "\n",
    "df['y'] = X@beta + regprob.params[0] #Calculo de errores. "
   ]
  },
  {
   "cell_type": "code",
   "execution_count": 6,
   "id": "55d7c224-30c4-46dc-b921-b93d5d46ecd1",
   "metadata": {},
   "outputs": [
    {
     "data": {
      "text/html": [
       "<div>\n",
       "<style scoped>\n",
       "    .dataframe tbody tr th:only-of-type {\n",
       "        vertical-align: middle;\n",
       "    }\n",
       "\n",
       "    .dataframe tbody tr th {\n",
       "        vertical-align: top;\n",
       "    }\n",
       "\n",
       "    .dataframe thead th {\n",
       "        text-align: right;\n",
       "    }\n",
       "</style>\n",
       "<table border=\"1\" class=\"dataframe\">\n",
       "  <thead>\n",
       "    <tr style=\"text-align: right;\">\n",
       "      <th></th>\n",
       "      <th>age</th>\n",
       "      <th>educ</th>\n",
       "      <th>married</th>\n",
       "      <th>children</th>\n",
       "      <th>wage</th>\n",
       "      <th>censored</th>\n",
       "      <th>y</th>\n",
       "    </tr>\n",
       "  </thead>\n",
       "  <tbody>\n",
       "    <tr>\n",
       "      <th>0</th>\n",
       "      <td>22</td>\n",
       "      <td>10</td>\n",
       "      <td>1</td>\n",
       "      <td>0</td>\n",
       "      <td>NaN</td>\n",
       "      <td>0</td>\n",
       "      <td>-0.688997</td>\n",
       "    </tr>\n",
       "    <tr>\n",
       "      <th>1</th>\n",
       "      <td>36</td>\n",
       "      <td>10</td>\n",
       "      <td>1</td>\n",
       "      <td>0</td>\n",
       "      <td>20.312845</td>\n",
       "      <td>1</td>\n",
       "      <td>-0.202902</td>\n",
       "    </tr>\n",
       "    <tr>\n",
       "      <th>2</th>\n",
       "      <td>28</td>\n",
       "      <td>10</td>\n",
       "      <td>1</td>\n",
       "      <td>0</td>\n",
       "      <td>NaN</td>\n",
       "      <td>0</td>\n",
       "      <td>-0.480671</td>\n",
       "    </tr>\n",
       "    <tr>\n",
       "      <th>3</th>\n",
       "      <td>37</td>\n",
       "      <td>10</td>\n",
       "      <td>1</td>\n",
       "      <td>0</td>\n",
       "      <td>NaN</td>\n",
       "      <td>0</td>\n",
       "      <td>-0.168180</td>\n",
       "    </tr>\n",
       "    <tr>\n",
       "      <th>4</th>\n",
       "      <td>39</td>\n",
       "      <td>10</td>\n",
       "      <td>1</td>\n",
       "      <td>1</td>\n",
       "      <td>16.142241</td>\n",
       "      <td>1</td>\n",
       "      <td>0.348587</td>\n",
       "    </tr>\n",
       "  </tbody>\n",
       "</table>\n",
       "</div>"
      ],
      "text/plain": [
       "   age  educ  married  children       wage  censored         y\n",
       "0   22    10        1         0        NaN         0 -0.688997\n",
       "1   36    10        1         0  20.312845         1 -0.202902\n",
       "2   28    10        1         0        NaN         0 -0.480671\n",
       "3   37    10        1         0        NaN         0 -0.168180\n",
       "4   39    10        1         1  16.142241         1  0.348587"
      ]
     },
     "execution_count": 6,
     "metadata": {},
     "output_type": "execute_result"
    }
   ],
   "source": [
    "df.head()"
   ]
  },
  {
   "cell_type": "code",
   "execution_count": 7,
   "id": "119a4391-b8e7-415f-be5a-325fdf181014",
   "metadata": {},
   "outputs": [
    {
     "name": "stdout",
     "output_type": "stream",
     "text": [
      "                            OLS Regression Results                            \n",
      "==============================================================================\n",
      "Dep. Variable:                   wage   R-squared:                       0.279\n",
      "Model:                            OLS   Adj. R-squared:                  0.278\n",
      "Method:                 Least Squares   F-statistic:                     173.0\n",
      "Date:                Tue, 15 Oct 2024   Prob (F-statistic):           8.63e-95\n",
      "Time:                        16:15:25   Log-Likelihood:                -4158.2\n",
      "No. Observations:                1343   AIC:                             8324.\n",
      "Df Residuals:                    1339   BIC:                             8345.\n",
      "Df Model:                           3                                         \n",
      "Covariance Type:            nonrobust                                         \n",
      "==============================================================================\n",
      "                 coef    std err          t      P>|t|      [0.025      0.975]\n",
      "------------------------------------------------------------------------------\n",
      "Intercept      0.7340      1.166      0.629      0.529      -1.554       3.022\n",
      "age            0.2119      0.021     10.253      0.000       0.171       0.252\n",
      "educ           0.9825      0.050     19.457      0.000       0.883       1.082\n",
      "Ee             4.0016      0.577      6.934      0.000       2.869       5.134\n",
      "==============================================================================\n",
      "Omnibus:                        4.932   Durbin-Watson:                   2.000\n",
      "Prob(Omnibus):                  0.085   Jarque-Bera (JB):                4.816\n",
      "Skew:                           0.138   Prob(JB):                       0.0900\n",
      "Kurtosis:                       3.099   Cond. No.                         345.\n",
      "==============================================================================\n",
      "\n",
      "Notes:\n",
      "[1] Standard Errors assume that the covariance matrix of the errors is correctly specified.\n"
     ]
    }
   ],
   "source": [
    "from scipy.stats import norm\n",
    "\n",
    "df['phi'] = norm.pdf(df['y'])\n",
    "df['Phi'] = regprob.predict() # es lo mismo que norm.cdf(df['y'])\n",
    "df['Ee'] = df['phi']/df['Phi']\n",
    "\n",
    "regols =  smf.ols('wage ~ age + educ + Ee', data =df).fit()\n",
    "print(regols.summary())"
   ]
  },
  {
   "cell_type": "code",
   "execution_count": 10,
   "id": "3e50dd02-adb2-4cef-8ea8-3b1981e18282",
   "metadata": {},
   "outputs": [],
   "source": [
    "df['resid2'] = df['wage'] - df['predicted']"
   ]
  },
  {
   "cell_type": "code",
   "execution_count": 11,
   "id": "910a0c46-f210-42d7-a6c1-618c4ed953ef",
   "metadata": {},
   "outputs": [
    {
     "data": {
      "text/plain": [
       "5.358695656745396"
      ]
     },
     "execution_count": 11,
     "metadata": {},
     "output_type": "execute_result"
    }
   ],
   "source": [
    "sigma = ((df['resid2']**2).sum()/(df['wage'].notna().sum() - 4))**0.5\n",
    "sigma"
   ]
  }
 ],
 "metadata": {
  "kernelspec": {
   "display_name": "Python 3 (ipykernel)",
   "language": "python",
   "name": "python3"
  },
  "language_info": {
   "codemirror_mode": {
    "name": "ipython",
    "version": 3
   },
   "file_extension": ".py",
   "mimetype": "text/x-python",
   "name": "python",
   "nbconvert_exporter": "python",
   "pygments_lexer": "ipython3",
   "version": "3.10.6"
  },
  "widgets": {
   "application/vnd.jupyter.widget-state+json": {
    "state": {},
    "version_major": 2,
    "version_minor": 0
   }
  }
 },
 "nbformat": 4,
 "nbformat_minor": 5
}
